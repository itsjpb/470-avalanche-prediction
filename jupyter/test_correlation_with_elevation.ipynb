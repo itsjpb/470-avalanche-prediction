{
 "cells": [
  {
   "cell_type": "code",
   "execution_count": 5,
   "metadata": {},
   "outputs": [
    {
     "name": "stdout",
     "output_type": "stream",
     "text": [
      "Using only elevation:\n",
      "\t Above Treeline\n",
      "Training R2 score: 0.8550229493482103\n",
      "Actual R2 score: -0.014947622282608819\n",
      "Using only elevation:\n",
      "\t At Treeline\n",
      "Training R2 score: 0.8567937608898102\n",
      "Actual R2 score: 0.31776602056962033\n",
      "Using only elevation:\n",
      "\t Below Treeline\n",
      "Training R2 score: 0.8572588170565993\n",
      "Actual R2 score: 0.4121811868686869\n"
     ]
    }
   ],
   "source": [
    "import pandas as pd\n",
    "\n",
    "from sklearn.model_selection import train_test_split\n",
    "from sklearn.metrics import r2_score\n",
    "from sklearn.ensemble import RandomForestRegressor # try classifier next\n",
    "\n",
    "df = pd.read_csv('../content/csv/FINALDATASET_EastSlopesNorth.csv')\n",
    "df.set_index('Date', inplace=True)\n",
    "\n",
    "df.drop('Area', inplace=True, axis=1)\n",
    "\n",
    "elevations = ['Above Treeline', 'At Treeline', 'Below Treeline']\n",
    "\n",
    "\n",
    "# df.drop('Below Treeline', inplace=True, axis=1)\n",
    "\n",
    "def try_elevation_score(training_data, elevation):\n",
    "\n",
    "    for elev in [e for e in elevations if e != elevation]:\n",
    "        training_data = training_data.drop(elev, axis=1)\n",
    "\n",
    "    x = training_data.drop(elevation, axis=1)\n",
    "    y = training_data[elevation]\n",
    "\n",
    "    x_train, x_test, y_train, y_test = train_test_split(x, y, random_state=42)\n",
    "\n",
    "    rf_regressor = RandomForestRegressor(random_state=42)\n",
    "\n",
    "    rf_regressor.fit(x_train, y_train)\n",
    "\n",
    "    print('Using only elevation:\\n\\t', elevation)\n",
    "    y_pred_train = rf_regressor.predict(x_train)\n",
    "    print('Training R2 score:\\n\\t', r2_score(y_train, y_pred_train))\n",
    "\n",
    "    y_pred = rf_regressor.predict(x_test)\n",
    "    print('Actual R2 score:\\n\\t', r2_score(y_test, y_pred))\n",
    "\n",
    "for elev in elevations:\n",
    "    try_elevation_score(df, elev)"
   ]
  }
 ],
 "metadata": {
  "kernelspec": {
   "display_name": "Python 3",
   "language": "python",
   "name": "python3"
  },
  "language_info": {
   "codemirror_mode": {
    "name": "ipython",
    "version": 3
   },
   "file_extension": ".py",
   "mimetype": "text/x-python",
   "name": "python",
   "nbconvert_exporter": "python",
   "pygments_lexer": "ipython3",
   "version": "3.10.10"
  },
  "orig_nbformat": 4
 },
 "nbformat": 4,
 "nbformat_minor": 2
}
