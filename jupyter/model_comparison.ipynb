{
 "cells": [
  {
   "attachments": {},
   "cell_type": "markdown",
   "metadata": {},
   "source": [
    "# Comparison of Different Machine Learning Models\n",
    "\n",
    "## Models Tried\n",
    "\n",
    "1. RandomForestRegressor\n",
    "    - Advantages: Why did we start with this? \n",
    "    - Drawbacks: Why did we pivot away?\n",
    "1. K Nearest Neighbors\n",
    "    - Advantages: Why was this the next choice?\n",
    "    - Drawbacks: Why did we pivot away?\n",
    "1. Gradient Boosting Classifier\n",
    "    - Advantages: Why was this the next choice?\n",
    "    - Drawbacks: Why did we pivot away?"
   ]
  },
  {
   "attachments": {},
   "cell_type": "markdown",
   "metadata": {},
   "source": [
    "## Random Forest Regressor"
   ]
  },
  {
   "cell_type": "code",
   "execution_count": 10,
   "metadata": {},
   "outputs": [
    {
     "name": "stderr",
     "output_type": "stream",
     "text": [
      "/tmp/ipykernel_21919/2576179185.py:19: FutureWarning: Dropping of nuisance columns in DataFrame reductions (with 'numeric_only=None') is deprecated; in a future version this will raise TypeError.  Select only valid columns before calling the reduction.\n",
      "  DATA.fillna(DATA.mean(), inplace=True)\n"
     ]
    },
    {
     "name": "stdout",
     "output_type": "stream",
     "text": [
      "Random Forest Regressor Scores\n",
      "\tAbove Treeline\n",
      "\t\tPrediction (Training) score:\t 0.86\n",
      "\t\tActual (Validation) score:\t 0.23\n",
      "\tAt Treeline\n",
      "\t\tPrediction (Training) score:\t 0.86\n",
      "\t\tActual (Validation) score:\t 0.28\n",
      "\tBelow Treeline\n",
      "\t\tPrediction (Training) score:\t 0.86\n",
      "\t\tActual (Validation) score:\t 0.15\n"
     ]
    }
   ],
   "source": [
    "def random_forest_prediction():\n",
    "    import pandas as pd\n",
    "\n",
    "    ESN = pd.read_csv('../content/csv/FINALDATASET_EastSlopesNorth.csv')\n",
    "    WSN = pd.read_csv('../content/csv/FINALDATASET_WestSlopesNorth.csv')\n",
    "    WSS = pd.read_csv('../content/csv/FINALDATASET_WestSlopesSouth.csv')\n",
    "\n",
    "    assert all(ESN.columns) == all(WSN.columns) and all(ESN.columns) == all(WSS.columns), \\\n",
    "        'All dataframes should have the same columns'\n",
    "        \n",
    "        # Combine dataframes\n",
    "\n",
    "    DATA = pd.concat([ESN, WSN, WSS], axis=0, ignore_index=True)\n",
    "\n",
    "    # Show any rows with NaN\n",
    "    DATA[DATA.isna().any(axis=1)]\n",
    "\n",
    "    # Todo: try dropping NaN columns instead\n",
    "    DATA.fillna(DATA.mean(), inplace=True)\n",
    "\n",
    "    # Todo: should we try to use these?\n",
    "    DATA.drop(['Date', 'Area'], axis=1, inplace=True)\n",
    "\n",
    "    # Try normalizing: does not help\n",
    "    # for col in DATA.columns:\n",
    "        # DATA[col] = (DATA[col]-DATA[col].mean())/DATA[col].std()\n",
    "    # DATA=(DATA-DATA.min())/(DATA.max()-DATA.min())\n",
    "\n",
    "    # Can uncomment to make prediction better\n",
    "    DATA.drop(['Yesterday Danger Above Treeline', 'Yesterday Danger At Treeline', 'Yesterday Danger Below Treeline'], axis=1, inplace=True)\n",
    "\n",
    "    from sklearn.model_selection import train_test_split\n",
    "    from sklearn.metrics import r2_score\n",
    "    from sklearn.ensemble import RandomForestRegressor\n",
    "\n",
    "    def make_prediction_rfr(df, y_col):\n",
    "        x = df.drop(y_col, axis=1)\n",
    "        y = df[y_col]\n",
    "\n",
    "        x_train, x_test, y_train, y_test = train_test_split(x, y, random_state=42)\n",
    "\n",
    "        rf_regressor = RandomForestRegressor(random_state=42)\n",
    "\n",
    "        rf_regressor.fit(x_train, y_train)\n",
    "\n",
    "        y_pred_train = rf_regressor.predict(x_train)\n",
    "        y_pred = rf_regressor.predict(x_test)\n",
    "\n",
    "        print('\\t' + y_col)\n",
    "        print('\\t\\tPrediction (Training) score:\\t', '{0:.2f}'.format(r2_score(y_train, y_pred_train)))\n",
    "        print('\\t\\tActual (Validation) score:\\t', '{0:.2f}'.format(r2_score(y_test, y_pred)))\n",
    "\n",
    "    # Drop columms that were determined to hurt the prediction\n",
    "    DATA.drop(['Total Snowfall 24hr', 'Total Snowfall 72hr'], axis=1, inplace=True)\n",
    "\n",
    "    above_treeline = DATA.drop(['At Treeline', 'Below Treeline'], axis=1)\n",
    "    at_treeline = DATA.drop(['Above Treeline', 'Below Treeline'], axis=1)\n",
    "    below_treeline = DATA.drop(['Above Treeline', 'At Treeline'], axis=1)\n",
    "\n",
    "    print('Random Forest Regressor Scores')\n",
    "    make_prediction_rfr(above_treeline, 'Above Treeline')\n",
    "    make_prediction_rfr(at_treeline, 'At Treeline')\n",
    "    make_prediction_rfr(below_treeline, 'Below Treeline')\n",
    "\n",
    "random_forest_prediction()"
   ]
  },
  {
   "attachments": {},
   "cell_type": "markdown",
   "metadata": {},
   "source": [
    "## K Nearest Neighbors"
   ]
  },
  {
   "cell_type": "code",
   "execution_count": 11,
   "metadata": {},
   "outputs": [
    {
     "name": "stdout",
     "output_type": "stream",
     "text": [
      "0.6051136363636364\n",
      "0.5393258426966292\n"
     ]
    },
    {
     "name": "stderr",
     "output_type": "stream",
     "text": [
      "/tmp/ipykernel_21919/1578121937.py:18: FutureWarning: Dropping of nuisance columns in DataFrame reductions (with 'numeric_only=None') is deprecated; in a future version this will raise TypeError.  Select only valid columns before calling the reduction.\n",
      "  DATA.fillna(DATA.mean(), inplace=True)\n"
     ]
    }
   ],
   "source": [
    "import pandas as pd\n",
    "\n",
    "ESN = pd.read_csv('../content/csv/FINALDATASET_EastSlopesNorth.csv')\n",
    "WSN = pd.read_csv('../content/csv/FINALDATASET_WestSlopesNorth.csv')\n",
    "WSS = pd.read_csv('../content/csv/FINALDATASET_WestSlopesSouth.csv')\n",
    "\n",
    "assert all(ESN.columns) == all(WSN.columns) and all(ESN.columns) == all(WSS.columns), \\\n",
    "    'All dataframes should have the same columns'\n",
    "    \n",
    "    # Combine dataframes\n",
    "\n",
    "DATA = pd.concat([ESN, WSN, WSS], axis=0, ignore_index=True)\n",
    "\n",
    "# Show any rows with NaN\n",
    "DATA[DATA.isna().any(axis=1)]\n",
    "\n",
    "# Todo: try dropping NaN columns instead\n",
    "DATA.fillna(DATA.mean(), inplace=True)\n",
    "\n",
    "# Todo: should we try to use these?\n",
    "DATA.drop(['Date', 'Area'], axis=1, inplace=True)\n",
    "\n",
    "# Try normalizing: does not help\n",
    "# for col in DATA.columns:\n",
    "    # DATA[col] = (DATA[col]-DATA[col].mean())/DATA[col].std()\n",
    "# DATA=(DATA-DATA.min())/(DATA.max()-DATA.min())\n",
    "\n",
    "# Can uncomment to make prediction better\n",
    "DATA.drop(['Yesterday Danger Above Treeline', \\\n",
    "           'Yesterday Danger At Treeline', 'Yesterday Danger Below Treeline'], \\\n",
    "            axis=1, inplace=True)\n",
    "\n",
    "NORMALIZED = DATA.copy(deep=True)\n",
    "for col in NORMALIZED.columns:\n",
    "    if col not in (\n",
    "        'Above Treeline',\n",
    "        'At Treeline', \n",
    "        'Below Treeline'\n",
    "        'Was High Winds 24hr', \n",
    "        'Was Heavy Snowfall 24hr'):\n",
    "        NORMALIZED[col] = (NORMALIZED[col]-NORMALIZED[col].mean())/NORMALIZED[col].std()\n",
    "\n",
    "from sklearn.model_selection import train_test_split\n",
    "\n",
    "x = NORMALIZED.drop(['Above Treeline', 'At Treeline', 'Below Treeline'], axis=1)\n",
    "y = NORMALIZED['At Treeline']\n",
    "\n",
    "x_training_data, x_test_data, y_training_data, y_test_data = train_test_split(x, y, test_size=0.2, random_state=42)\n",
    "\n",
    "from sklearn.neighbors import KNeighborsClassifier\n",
    "\n",
    "model = KNeighborsClassifier(n_neighbors=24) \n",
    "\n",
    "model.fit(x_training_data, y_training_data)\n",
    "\n",
    "predictions = model.predict(x_test_data)\n",
    "\n",
    "print(model.score(x_training_data, y_training_data))\n",
    "print(model.score(x_test_data, y_test_data))"
   ]
  }
 ],
 "metadata": {
  "kernelspec": {
   "display_name": "Python 3",
   "language": "python",
   "name": "python3"
  },
  "language_info": {
   "codemirror_mode": {
    "name": "ipython",
    "version": 3
   },
   "file_extension": ".py",
   "mimetype": "text/x-python",
   "name": "python",
   "nbconvert_exporter": "python",
   "pygments_lexer": "ipython3",
   "version": "3.10.10"
  },
  "orig_nbformat": 4
 },
 "nbformat": 4,
 "nbformat_minor": 2
}
