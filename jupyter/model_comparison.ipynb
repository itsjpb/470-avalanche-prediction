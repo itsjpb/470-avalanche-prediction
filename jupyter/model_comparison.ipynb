{
 "cells": [
  {
   "attachments": {},
   "cell_type": "markdown",
   "metadata": {},
   "source": [
    "# Comparison of Different Machine Learning Models\n",
    "\n",
    "## Models Tried\n",
    "\n",
    "1. RandomForestRegressor\n",
    "    - Advantages: Why did we start with this? \n",
    "    - Drawbacks: Why did we pivot away?\n",
    "1. K Nearest Neighbors\n",
    "    - Advantages: Why was this the next choice?\n",
    "    - Drawbacks: Why did we pivot away?\n",
    "1. Gradient Boosting Classifier\n",
    "    - Advantages: Why was this the next choice?\n",
    "    - Drawbacks: Why did we pivot away?"
   ]
  },
  {
   "cell_type": "code",
   "execution_count": null,
   "metadata": {},
   "outputs": [],
   "source": []
  }
 ],
 "metadata": {
  "language_info": {
   "name": "python"
  },
  "orig_nbformat": 4
 },
 "nbformat": 4,
 "nbformat_minor": 2
}
