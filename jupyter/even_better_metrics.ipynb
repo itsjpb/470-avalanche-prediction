{
 "cells": [
  {
   "cell_type": "code",
   "execution_count": 5,
   "metadata": {},
   "outputs": [
    {
     "ename": "ImportError",
     "evalue": "cannot import name 'thing' from 'load_dataframes' (/home/alyo/Desktop/school/AD470/470-avalanche-prediction/jupyter/load_dataframes.py)",
     "output_type": "error",
     "traceback": [
      "\u001b[0;31m---------------------------------------------------------------------------\u001b[0m",
      "\u001b[0;31mImportError\u001b[0m                               Traceback (most recent call last)",
      "Cell \u001b[0;32mIn[5], line 2\u001b[0m\n\u001b[1;32m      1\u001b[0m \u001b[39mimport\u001b[39;00m \u001b[39mpandas\u001b[39;00m \u001b[39mas\u001b[39;00m \u001b[39mpd\u001b[39;00m\n\u001b[0;32m----> 2\u001b[0m \u001b[39mfrom\u001b[39;00m \u001b[39mload_dataframes\u001b[39;00m \u001b[39mimport\u001b[39;00m thing, get_danger_df, get_snotel_df\n\u001b[1;32m      4\u001b[0m thing()\n\u001b[1;32m      6\u001b[0m \u001b[39mdef\u001b[39;00m \u001b[39mget_training_data\u001b[39m():\n",
      "\u001b[0;31mImportError\u001b[0m: cannot import name 'thing' from 'load_dataframes' (/home/alyo/Desktop/school/AD470/470-avalanche-prediction/jupyter/load_dataframes.py)"
     ]
    }
   ],
   "source": [
    "import pandas as pd\n",
    "from load_dataframes import get_danger_df, get_snotel_df\n",
    "\n",
    "\n",
    "def get_training_data():\n",
    "    snotel_df = get_snotel_df()\n",
    "    danger_df = get_danger_df()\n",
    "    \n",
    "    def init_training_df():\n",
    "        cols = [ \n",
    "            'Max Air Temp 24hr', \n",
    "            'Max Air Temp 72hr', \n",
    "            'Total Snowfall 24hr', \n",
    "            'Total Snowfall 72hr', \n",
    "            'Max Windspeed 24hr',\n",
    "            'Weighted Snowfall 96hr',\n",
    "            'Min Temp Diff 48hr',\n",
    "            'Was Heavy Snowfall 24hr',\n",
    "            'Was High Winds 24hr',\n",
    "            'Sum Max Temp 72hr',\n",
    "            'Delta SWE 24hr',\n",
    "            'Yesterday Danger',\n",
    "            'Danger Rating'\n",
    "        ]\n",
    "        return pd.DataFrame([], columns=cols)\n",
    "    \n",
    "    # Set up the correct columns\n",
    "    df = init_training_df()\n",
    "    # For every danger rating value\n",
    "    for idx, row in danger_df.iterrows():\n",
    "        date = idx\n",
    "        # Compute the metrics for that date\n",
    "        \n",
    "        # Add them to a row and add that row to the dataframe\n",
    "        df.loc[date] = [0,0,0,0,0,0,0,0,0,0,0,0,0]\n",
    "\n",
    "    return df\n",
    "\n",
    "print('SWE: Depth of water that would theoretically result if the entire snowpack were melted instantaneously')\n",
    "print('SD: Total snow depth')\n",
    "print('PA: Water year accumulated precipitation')\n",
    "print('ATO: Instantaneously observed air temperature')\n",
    "\n",
    "assert get_snotel_df().iloc[200:205].equals(get_snotel_df().loc['2022-11-09 08:00': '2022-11-09 12:00']), 'Indexing is incorrect'\n",
    "\n",
    "get_danger_df().tail()\n",
    "get_training_data().head()"
   ]
  },
  {
   "attachments": {},
   "cell_type": "markdown",
   "metadata": {},
   "source": [
    "todo: start here"
   ]
  }
 ],
 "metadata": {
  "kernelspec": {
   "display_name": "Python 3",
   "language": "python",
   "name": "python3"
  },
  "language_info": {
   "codemirror_mode": {
    "name": "ipython",
    "version": 3
   },
   "file_extension": ".py",
   "mimetype": "text/x-python",
   "name": "python",
   "nbconvert_exporter": "python",
   "pygments_lexer": "ipython3",
   "version": "3.10.10"
  },
  "orig_nbformat": 4
 },
 "nbformat": 4,
 "nbformat_minor": 2
}
