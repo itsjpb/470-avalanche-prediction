{
 "cells": [
  {
   "cell_type": "code",
   "execution_count": 3,
   "metadata": {},
   "outputs": [],
   "source": [
    "import pandas as pd\n",
    "\n",
    "chicago_df = pd.read_csv('avocado.csv')\n",
    "\n",
    "the_config = {                 \n",
    "   \"model_name\": \"DARNN\",\n",
    "   \"model_type\": \"PyTorch\",\n",
    "    \"model_params\": {\n",
    "      \"n_time_series\":6,\n",
    "      \"hidden_size_encoder\":128,\n",
    "      \"decoder_hidden_size\":128,\n",
    "      \"out_feats\":1,\n",
    "      \"forecast_history\":5, \n",
    "      \"gru_lstm\": False\n",
    "    },\n",
    "    \"dataset_params\":\n",
    "    { \"class\": \"default\",\n",
    "       \"training_path\": \"chicago_df.csv\",\n",
    "       \"validation_path\": \"chicago_df.csv\",\n",
    "       \"test_path\": \"chicago_df.csv\",\n",
    "       \"forecast_length\": 1,\n",
    "       \"batch_size\":4,\n",
    "       \"forecast_history\":4,\n",
    "       \"train_end\": int(len(chicago_df)*.7),\n",
    "       \"valid_start\":int(len(chicago_df)*.7),\n",
    "       \"valid_end\": int(len(chicago_df)*.9),\n",
    "       \"test_start\": int(len(chicago_df)*.9),\n",
    "       \"target_col\": [\"average_price\"],\n",
    "       \"sort_column\": \"date\",\n",
    "        \"no_scale\": True,\n",
    "       \"relevant_cols\": [\"average_price\", \"total_volume\", \"4046\", \"4225\", \"4770\"],\n",
    "       \"scaler\": \"StandardScaler\", \n",
    "       \"interpolate\": False,\n",
    "       \"feature_param\":\n",
    "         {\n",
    "             \"datetime_params\":{\n",
    "                 \"month\":\"numerical\"\n",
    "             }\n",
    "         }\n",
    "    },\n",
    "\n",
    "    \"training_params\":\n",
    "    {\n",
    "       \"criterion\":\"DilateLoss\",\n",
    "       \"optimizer\": \"Adam\",\n",
    "       \"optim_params\":\n",
    "       {\"lr\": 0.001},\n",
    "       \"epochs\": 4,\n",
    "       \"batch_size\":4\n",
    "    },\n",
    "    \"inference_params\":{\n",
    "        \"datetime_start\": \"2020-11-01\",\n",
    "        \"hours_to_forecast\": 5,\n",
    "        \"test_csv_path\":\"chicago_df.csv\",\n",
    "        \"decoder_params\":{\n",
    "            \"decoder_function\": \"simple_decode\", \n",
    "            \"unsqueeze_dim\": 1\n",
    "        } \n",
    "    },\n",
    "    \"GCS\": False,\n",
    "   \n",
    "    \"wandb\": {\n",
    "       \"name\": \"avocado_training\",\n",
    "       \"tags\": [\"DA-RNN\", \"avocado_forecast\",\"forecasting\"],\n",
    "       \"project\": \"avocado_flow_forecast\"\n",
    "    },\n",
    "   \"forward_params\":{},\n",
    "   \"metrics\":[\"DilateLoss\", \"MSE\", \"L1\"]\n",
    "}"
   ]
  },
  {
   "cell_type": "code",
   "execution_count": 5,
   "metadata": {},
   "outputs": [
    {
     "ename": "ModuleNotFoundError",
     "evalue": "No module named 'flood_forecast'",
     "output_type": "error",
     "traceback": [
      "\u001b[0;31m---------------------------------------------------------------------------\u001b[0m",
      "\u001b[0;31mModuleNotFoundError\u001b[0m                       Traceback (most recent call last)",
      "Cell \u001b[0;32mIn[5], line 1\u001b[0m\n\u001b[0;32m----> 1\u001b[0m \u001b[39mfrom\u001b[39;00m \u001b[39mflood_forecast\u001b[39;00m\u001b[39m.\u001b[39;00m\u001b[39mtrainer\u001b[39;00m \u001b[39mimport\u001b[39;00m train_function\n\u001b[1;32m      2\u001b[0m \u001b[39m#from kaggle_secrets import UserSecretsClient\u001b[39;00m\n\u001b[1;32m      3\u001b[0m \u001b[39m#user_secrets = UserSecretsClient()\u001b[39;00m\n\u001b[1;32m      4\u001b[0m \u001b[39m#secret_value_0 = user_secrets.get_secret(\"WANDB_KEY\")\u001b[39;00m\n\u001b[1;32m      5\u001b[0m \u001b[39m#os.environ[\"WANDB_API_KEY\"] = secret_value_0\u001b[39;00m\n\u001b[1;32m      6\u001b[0m trained_model \u001b[39m=\u001b[39m train_function(\u001b[39m\"\u001b[39m\u001b[39mPyTorch\u001b[39m\u001b[39m\"\u001b[39m, the_config)\n",
      "\u001b[0;31mModuleNotFoundError\u001b[0m: No module named 'flood_forecast'"
     ]
    }
   ],
   "source": [
    "\n",
    "from flood_forecast.trainer import train_function\n",
    "#from kaggle_secrets import UserSecretsClient\n",
    "#user_secrets = UserSecretsClient()\n",
    "#secret_value_0 = user_secrets.get_secret(\"WANDB_KEY\")\n",
    "#os.environ[\"WANDB_API_KEY\"] = secret_value_0\n",
    "trained_model = train_function(\"PyTorch\", the_config)"
   ]
  }
 ],
 "metadata": {
  "kernelspec": {
   "display_name": "Python 3",
   "language": "python",
   "name": "python3"
  },
  "language_info": {
   "codemirror_mode": {
    "name": "ipython",
    "version": 3
   },
   "file_extension": ".py",
   "mimetype": "text/x-python",
   "name": "python",
   "nbconvert_exporter": "python",
   "pygments_lexer": "ipython3",
   "version": "3.10.10"
  },
  "orig_nbformat": 4
 },
 "nbformat": 4,
 "nbformat_minor": 2
}
