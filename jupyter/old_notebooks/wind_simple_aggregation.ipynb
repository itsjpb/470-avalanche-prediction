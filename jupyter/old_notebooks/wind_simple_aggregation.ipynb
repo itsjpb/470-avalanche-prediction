{
 "cells": [
  {
   "cell_type": "code",
   "execution_count": 1,
   "id": "b65f1ffd-185f-421f-b389-75a7cca9bb3e",
   "metadata": {},
   "outputs": [
    {
     "name": "stdout",
     "output_type": "stream",
     "text": [
      "<class 'pandas.core.frame.DataFrame'>\n",
      "Index: 4343 entries, 2022-11-01 00:00:00 to 2023-04-30 22:00:00\n",
      "Data columns (total 1 columns):\n",
      " #   Column                            Non-Null Count  Dtype  \n",
      "---  ------                            --------------  -----  \n",
      " 0   mph (5020') Mt. Baker - Pan Dome  4325 non-null   float64\n",
      "dtypes: float64(1)\n",
      "memory usage: 67.9+ KB\n"
     ]
    }
   ],
   "source": [
    "import pandas as pd\n",
    "crySS = pd.read_csv('../../nwac/425/mt-baker-ski-area-wind_speed_maximum.csv', comment='#')\n",
    "crySS = crySS.drop(index = 4343)\n",
    "crySS = crySS.rename(columns={'Date/Time (PST)': 'DateTime'})\n",
    "crySS['DateTime'] = pd.to_datetime(crySS['DateTime'])\n",
    "crySS['DateTime'] = crySS['DateTime'].astype(str)\n",
    "crySS.set_index('DateTime')\n",
    "crySS = crySS.iloc[::-1]\n",
    "crySS = crySS.set_index('DateTime')\n",
    "crySS.tail()\n",
    "crySS.info()"
   ]
  },
  {
   "cell_type": "code",
   "execution_count": 3,
   "id": "50f18163-87a6-48a3-be9e-55223b12f73d",
   "metadata": {},
   "outputs": [
    {
     "data": {
      "text/html": [
       "<div>\n",
       "<style scoped>\n",
       "    .dataframe tbody tr th:only-of-type {\n",
       "        vertical-align: middle;\n",
       "    }\n",
       "\n",
       "    .dataframe tbody tr th {\n",
       "        vertical-align: top;\n",
       "    }\n",
       "\n",
       "    .dataframe thead th {\n",
       "        text-align: right;\n",
       "    }\n",
       "</style>\n",
       "<table border=\"1\" class=\"dataframe\">\n",
       "  <thead>\n",
       "    <tr style=\"text-align: right;\">\n",
       "      <th></th>\n",
       "      <th>Max Windspeed 24hr</th>\n",
       "    </tr>\n",
       "    <tr>\n",
       "      <th>Date</th>\n",
       "      <th></th>\n",
       "    </tr>\n",
       "  </thead>\n",
       "  <tbody>\n",
       "    <tr>\n",
       "      <th>2023-04-26</th>\n",
       "      <td>15.53</td>\n",
       "    </tr>\n",
       "    <tr>\n",
       "      <th>2023-04-27</th>\n",
       "      <td>21.89</td>\n",
       "    </tr>\n",
       "    <tr>\n",
       "      <th>2023-04-28</th>\n",
       "      <td>16.24</td>\n",
       "    </tr>\n",
       "    <tr>\n",
       "      <th>2023-04-29</th>\n",
       "      <td>16.94</td>\n",
       "    </tr>\n",
       "    <tr>\n",
       "      <th>2023-04-30</th>\n",
       "      <td>35.3</td>\n",
       "    </tr>\n",
       "  </tbody>\n",
       "</table>\n",
       "</div>"
      ],
      "text/plain": [
       "           Max Windspeed 24hr\n",
       "Date                         \n",
       "2023-04-26              15.53\n",
       "2023-04-27              21.89\n",
       "2023-04-28              16.24\n",
       "2023-04-29              16.94\n",
       "2023-04-30               35.3"
      ]
     },
     "execution_count": 3,
     "metadata": {},
     "output_type": "execute_result"
    }
   ],
   "source": [
    "from collections import deque\n",
    "\n",
    "hourly_wind_readings = deque()\n",
    "wind_dfs = []\n",
    "\n",
    "\n",
    "new_df = pd.DataFrame()\n",
    "new_df['Date'] = None\n",
    "new_df['Max Windspeed 24hr'] = None\n",
    "new_df = new_df.set_index('Date')\n",
    "\n",
    "for idx, row in crySS.iterrows():\n",
    "    date = idx.split(' ')[0]\n",
    "    hour = idx.split(' ')[1]\n",
    "    if hour == '00:00:00' and len(hourly_wind_readings) >= 24:\n",
    "        m = -1\n",
    "        for w in hourly_wind_readings:\n",
    "            if w > m:\n",
    "                m = w\n",
    "        new_df.loc[date, 'Max Windspeed 24hr'] = m\n",
    "    if len(hourly_wind_readings) >= 24:\n",
    "        hourly_wind_readings.pop()\n",
    "    hourly_wind_readings.appendleft(row['mph (5020\\') Mt. Baker - Pan Dome'])\n",
    "\n",
    "wind_dfs.append(new_df)\n",
    "new_df.tail()"
   ]
  },
  {
   "cell_type": "code",
   "execution_count": 6,
   "id": "54d5069c-8c45-481a-a7ad-569367155916",
   "metadata": {},
   "outputs": [
    {
     "data": {
      "text/plain": [
       "[           Max Windspeed 24hr\n",
       " Date                         \n",
       " 2022-11-02              16.24\n",
       " 2022-11-03               11.3\n",
       " 2022-11-04               47.3\n",
       " 2022-11-05              72.01\n",
       " 2022-11-06              50.83\n",
       " ...                       ...\n",
       " 2023-04-26              15.53\n",
       " 2023-04-27              21.89\n",
       " 2023-04-28              16.24\n",
       " 2023-04-29              16.94\n",
       " 2023-04-30               35.3\n",
       " \n",
       " [180 rows x 1 columns]]"
      ]
     },
     "execution_count": 6,
     "metadata": {},
     "output_type": "execute_result"
    }
   ],
   "source": []
  },
  {
   "cell_type": "code",
   "execution_count": 9,
   "id": "fbe8f92a-87a8-4490-a022-7b9069dbeeb4",
   "metadata": {},
   "outputs": [
    {
     "data": {
      "text/html": [
       "<div>\n",
       "<style scoped>\n",
       "    .dataframe tbody tr th:only-of-type {\n",
       "        vertical-align: middle;\n",
       "    }\n",
       "\n",
       "    .dataframe tbody tr th {\n",
       "        vertical-align: top;\n",
       "    }\n",
       "\n",
       "    .dataframe thead th {\n",
       "        text-align: right;\n",
       "    }\n",
       "</style>\n",
       "<table border=\"1\" class=\"dataframe\">\n",
       "  <thead>\n",
       "    <tr style=\"text-align: right;\">\n",
       "      <th></th>\n",
       "      <th>Max Windspeed 24hr</th>\n",
       "      <th>Was High Winds 24hr</th>\n",
       "    </tr>\n",
       "    <tr>\n",
       "      <th>Date</th>\n",
       "      <th></th>\n",
       "      <th></th>\n",
       "    </tr>\n",
       "  </thead>\n",
       "  <tbody>\n",
       "    <tr>\n",
       "      <th>2023-04-26</th>\n",
       "      <td>15.53</td>\n",
       "      <td>0</td>\n",
       "    </tr>\n",
       "    <tr>\n",
       "      <th>2023-04-27</th>\n",
       "      <td>21.89</td>\n",
       "      <td>0</td>\n",
       "    </tr>\n",
       "    <tr>\n",
       "      <th>2023-04-28</th>\n",
       "      <td>16.24</td>\n",
       "      <td>0</td>\n",
       "    </tr>\n",
       "    <tr>\n",
       "      <th>2023-04-29</th>\n",
       "      <td>16.94</td>\n",
       "      <td>0</td>\n",
       "    </tr>\n",
       "    <tr>\n",
       "      <th>2023-04-30</th>\n",
       "      <td>35.3</td>\n",
       "      <td>1</td>\n",
       "    </tr>\n",
       "  </tbody>\n",
       "</table>\n",
       "</div>"
      ],
      "text/plain": [
       "           Max Windspeed 24hr  Was High Winds 24hr\n",
       "Date                                              \n",
       "2023-04-26              15.53                    0\n",
       "2023-04-27              21.89                    0\n",
       "2023-04-28              16.24                    0\n",
       "2023-04-29              16.94                    0\n",
       "2023-04-30               35.3                    1"
      ]
     },
     "execution_count": 9,
     "metadata": {},
     "output_type": "execute_result"
    }
   ],
   "source": [
    "final_wind = new_df\n",
    "final_wind['Was High Winds 24hr'] = final_wind.apply(lambda row : 1 if row['Max Windspeed 24hr'] >= 25 else 0, axis=1)\n",
    "final_wind.to_csv('../../nwac/425/wsn.csv', sep=',')\n",
    "final_wind.tail()"
   ]
  },
  {
   "cell_type": "code",
   "execution_count": null,
   "id": "04d3b8ad-30f2-4bc4-b49b-fd0ffd635249",
   "metadata": {},
   "outputs": [],
   "source": []
  }
 ],
 "metadata": {
  "kernelspec": {
   "display_name": "Python 3 (ipykernel)",
   "language": "python",
   "name": "python3"
  },
  "language_info": {
   "codemirror_mode": {
    "name": "ipython",
    "version": 3
   },
   "file_extension": ".py",
   "mimetype": "text/x-python",
   "name": "python",
   "nbconvert_exporter": "python",
   "pygments_lexer": "ipython3",
   "version": "3.10.9"
  }
 },
 "nbformat": 4,
 "nbformat_minor": 5
}
