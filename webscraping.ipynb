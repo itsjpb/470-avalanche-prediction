{
 "cells": [
  {
   "attachments": {},
   "cell_type": "markdown",
   "metadata": {},
   "source": [
    "First off, this code is not great.\n",
    "\n",
    "This code utilizes selenium, a webscraping tool, to pull archived\n",
    "avalanche danger reports. An alternative tool, BeautifulSoup, is \n",
    "NOT used because it only scrapes HTML data and not the JavaScript\n",
    "data that the Northwest Avalanche Center (NWAC) site uses for \n",
    "display. Selenium is a bit of a beast to work with unfortunately\n",
    "and if another tool is available we should at least look into it.\n",
    "\n",
    "This code opens and navigates to the NWAC archived avalanche reports\n",
    "site and pulls the links to individual avalanche reports. Then these\n",
    "pages are scraped to find danger ratings."
   ]
  },
  {
   "attachments": {},
   "cell_type": "markdown",
   "metadata": {},
   "source": [
    "Initialize the selenium webdriver to scrape the page"
   ]
  },
  {
   "cell_type": "code",
   "execution_count": 4,
   "metadata": {},
   "outputs": [],
   "source": [
    "import os\n",
    "import time\n",
    "\n",
    "from selenium import webdriver\n",
    "from selenium.webdriver.firefox.options import Options\n",
    "from selenium.webdriver.firefox.service import Service\n",
    "from selenium.webdriver.common.by import By\n",
    "\n",
    "def init_driver():\n",
    "    \"\"\"Initialize the web driver (essentially 'open the webpage')\"\"\"\n",
    "    # `snap install firefox`\n",
    "    # --- \n",
    "    # Set up the webdriver. \n",
    "    # This code will likely be different depending on the user's computer. \n",
    "    install_dir = \"/snap/firefox/current/usr/lib/firefox\"\n",
    "    driver_loc = os.path.join(install_dir, \"geckodriver\")\n",
    "    binary_loc = os.path.join(install_dir, \"firefox\")\n",
    "\n",
    "    service = Service(driver_loc)\n",
    "    opts = Options()\n",
    "    opts.add_argument('-headless')\n",
    "    opts.binary_location = binary_loc\n",
    "    # ---\n",
    "    driver = webdriver.Firefox(service=service, options=opts)\n",
    "    return driver\n"
   ]
  },
  {
   "attachments": {},
   "cell_type": "markdown",
   "metadata": {},
   "source": [
    "Write some code to actually scrape the page. See associated video which verifies that the data is correct"
   ]
  },
  {
   "cell_type": "code",
   "execution_count": 5,
   "metadata": {},
   "outputs": [
    {
     "name": "stdout",
     "output_type": "stream",
     "text": [
      "expected:\n",
      "\tmoderate\n",
      "\tmoderate\n",
      "\tlow\n",
      "actual:\n",
      "\t2 - MODERATE\n",
      "\t2 - MODERATE\n",
      "\t1 - LOW\n",
      "---\n",
      "expected:\n",
      "\tconsiderable\n",
      "\tconsiderable\n",
      "\tmoderate\n",
      "actual:\n",
      "\t3 - CONSIDERABLE\n",
      "\t3 - CONSIDERABLE\n",
      "\t2 - MODERATE\n",
      "---\n",
      "expected:\n",
      "\thigh\n",
      "\thigh\n",
      "\tconsiderable\n",
      "actual:\n",
      "\t4 - HIGH\n",
      "\t4 - HIGH\n",
      "\t3 - CONSIDERABLE\n",
      "---\n",
      "expected:\n",
      "\tmoderate\n",
      "\tmoderate\n",
      "\tmoderate\n",
      "actual:\n",
      "\t2 - MODERATE\n",
      "\t2 - MODERATE\n",
      "\t2 - MODERATE\n",
      "---\n"
     ]
    }
   ],
   "source": [
    "def print_danger_ratings(url):\n",
    "    # Make a new driver because reuse sometimes causes problems\n",
    "    driver = init_driver()\n",
    "    driver.get(url)\n",
    "    time.sleep(2)\n",
    "    # Find all elements with the specified class name\n",
    "    res = driver.find_elements(By.CLASS_NAME, 'nac-dangerLabel')\n",
    "    print('actual:')\n",
    "    for danger in res:\n",
    "        if danger.text:\n",
    "            print('\\t'+danger.text)\n",
    "\n",
    "def test_danger_ratings(driver, url, expected):\n",
    "    print('expected:')\n",
    "    print(expected)\n",
    "    print_danger_ratings(url)\n",
    "\n",
    "driver = init_driver()\n",
    "\n",
    "def run_some_tests():\n",
    "    test_danger_ratings(driver, 'https://nwac.us/avalanche-forecast/#/forecast/6/124162', \\\n",
    "                        '\\tmoderate\\n\\tmoderate\\n\\tlow')\n",
    "    print('---')\n",
    "    test_danger_ratings(driver, 'https://nwac.us/avalanche-forecast/#/forecast/4/124286',\\\n",
    "                        '\\tconsiderable\\n\\tconsiderable\\n\\tmoderate')\n",
    "    print('---')\n",
    "    test_danger_ratings(driver, 'https://nwac.us/avalanche-forecast/#/forecast/4/123859',\\\n",
    "                        '\\thigh\\n\\thigh\\n\\tconsiderable')\n",
    "    print('---')\n",
    "    test_danger_ratings(driver, 'https://nwac.us/avalanche-forecast/#/forecast/2/123737',\\\n",
    "                        '\\tmoderate\\n\\tmoderate\\n\\tmoderate')\n",
    "    print('---')\n",
    "\n",
    "run_some_tests()\n",
    "\n"
   ]
  },
  {
   "attachments": {},
   "cell_type": "markdown",
   "metadata": {},
   "source": [
    "Get a bunch of data"
   ]
  },
  {
   "cell_type": "code",
   "execution_count": 6,
   "metadata": {},
   "outputs": [
    {
     "name": "stdout",
     "output_type": "stream",
     "text": [
      "link: https://nwac.us/avalanche-forecast/#/forecast/6/124290\n",
      "actual:\n",
      "\t2 - MODERATE\n",
      "\t2 - MODERATE\n",
      "\t1 - LOW\n",
      "link: https://nwac.us/avalanche-forecast/#/forecast/7/124291\n",
      "actual:\n",
      "\t2 - MODERATE\n",
      "\t1 - LOW\n",
      "\t1 - LOW\n",
      "link: https://nwac.us/avalanche-forecast/#/forecast/9/124292\n",
      "actual:\n",
      "\t1 - LOW\n",
      "\t1 - LOW\n",
      "\t1 - LOW\n",
      "link: https://nwac.us/avalanche-forecast/#/forecast/10/124293\n",
      "actual:\n",
      "\t2 - MODERATE\n",
      "\t2 - MODERATE\n",
      "\t1 - LOW\n",
      "link: https://nwac.us/avalanche-forecast/#/forecast/8/124227\n",
      "actual:\n",
      "\t1 - LOW\n",
      "\t1 - LOW\n",
      "\t1 - LOW\n"
     ]
    }
   ],
   "source": [
    "# NWAC Archived Avalanche Reports from the 22-23 season\n",
    "# Provides daily danger predictions by area\n",
    "archive = 'https://nwac.us/avalanche-forecast/#/archive/'\n",
    "# \"Get\" the page\n",
    "driver.get(archive)\n",
    "# Wait for the page to load. There's probably a much better way to do this\n",
    "time.sleep(2)\n",
    "\n",
    "# Get the link to the report page\n",
    "# This is where selenium gets weird about navigating things...\n",
    "# See documentation for more info, but it's finding it my XML path\n",
    "page = driver.find_elements(By.XPATH, \"//a[contains(@href, '#/forecast/')]\")\n",
    "for p in page[15:20]:\n",
    "    print('link:', p.get_attribute('href'))\n",
    "    print_danger_ratings(p.get_attribute('href'))\n",
    "\n",
    "driver.close()"
   ]
  }
 ],
 "metadata": {
  "kernelspec": {
   "display_name": "Python 3",
   "language": "python",
   "name": "python3"
  },
  "language_info": {
   "codemirror_mode": {
    "name": "ipython",
    "version": 3
   },
   "file_extension": ".py",
   "mimetype": "text/x-python",
   "name": "python",
   "nbconvert_exporter": "python",
   "pygments_lexer": "ipython3",
   "version": "3.10.10"
  },
  "orig_nbformat": 4
 },
 "nbformat": 4,
 "nbformat_minor": 2
}
